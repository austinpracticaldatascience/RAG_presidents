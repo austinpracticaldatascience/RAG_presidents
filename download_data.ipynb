{
 "cells": [
  {
   "cell_type": "code",
   "execution_count": 3,
   "metadata": {},
   "outputs": [],
   "source": [
    "import json, requests, sys"
   ]
  },
  {
   "cell_type": "code",
   "execution_count": 4,
   "metadata": {},
   "outputs": [],
   "source": [
    "endpoint = \"https://api.millercenter.org/speeches\"\n",
    "out_file = \"speeches.json\""
   ]
  },
  {
   "cell_type": "code",
   "execution_count": 5,
   "metadata": {},
   "outputs": [
    {
     "name": "stdout",
     "output_type": "stream",
     "text": [
      "95 speeches\n",
      "136 speeches\n",
      "174 speeches\n",
      "232 speeches\n",
      "273 speeches\n",
      "326 speeches\n",
      "369 speeches\n",
      "411 speeches\n",
      "457 speeches\n",
      "503 speeches\n",
      "547 speeches\n",
      "591 speeches\n",
      "622 speeches\n",
      "665 speeches\n",
      "711 speeches\n",
      "765 speeches\n",
      "802 speeches\n",
      "847 speeches\n",
      "897 speeches\n",
      "926 speeches\n",
      "978 speeches\n",
      "1035 speeches\n",
      "1054 speeches\n",
      "wrote results to file: speeches.json\n"
     ]
    }
   ],
   "source": [
    "r = requests.post(url=endpoint)\n",
    "data = r.json()\n",
    "items = data['Items']\n",
    "\n",
    "while 'LastEvaluatedKey' in data:\n",
    "    parameters = {\"LastEvaluatedKey\": data['LastEvaluatedKey']['doc_name']}\n",
    "    r = requests.post(url = endpoint, params = parameters)\n",
    "    data = r.json()\n",
    "    items += data['Items']\n",
    "    print(f'{len(items)} speeches')\n",
    "\n",
    "with open(out_file, \"w\") as out:\n",
    "    out.write(json.dumps(items))\n",
    "    print(f'wrote results to file: {out_file}')"
   ]
  },
  {
   "cell_type": "code",
   "execution_count": null,
   "metadata": {},
   "outputs": [],
   "source": []
  }
 ],
 "metadata": {
  "kernelspec": {
   "display_name": "infl",
   "language": "python",
   "name": "python3"
  },
  "language_info": {
   "codemirror_mode": {
    "name": "ipython",
    "version": 3
   },
   "file_extension": ".py",
   "mimetype": "text/x-python",
   "name": "python",
   "nbconvert_exporter": "python",
   "pygments_lexer": "ipython3",
   "version": "3.12.1"
  }
 },
 "nbformat": 4,
 "nbformat_minor": 2
}
